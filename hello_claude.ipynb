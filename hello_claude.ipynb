{
  "nbformat": 4,
  "nbformat_minor": 0,
  "metadata": {
    "colab": {
      "private_outputs": true,
      "provenance": [],
      "authorship_tag": "ABX9TyNA6+rdANCZiQNtTev/m4RJ",
      "include_colab_link": true
    },
    "kernelspec": {
      "name": "python3",
      "display_name": "Python 3"
    },
    "language_info": {
      "name": "python"
    }
  },
  "cells": [
    {
      "cell_type": "markdown",
      "metadata": {
        "id": "view-in-github",
        "colab_type": "text"
      },
      "source": [
        "<a href=\"https://colab.research.google.com/github/midhubalan/dojolicious-bot/blob/main/hello_claude.ipynb\" target=\"_parent\"><img src=\"https://colab.research.google.com/assets/colab-badge.svg\" alt=\"Open In Colab\"/></a>"
      ]
    },
    {
      "cell_type": "code",
      "execution_count": null,
      "metadata": {
        "id": "I2ZnuOE4TZzy"
      },
      "outputs": [],
      "source": [
        "!pip install anthropic"
      ]
    },
    {
      "cell_type": "code",
      "source": [
        "from functools import partial\n",
        "from typing import Literal\n",
        "\n",
        "from google.colab import userdata\n",
        "\n",
        "from anthropic import (\n",
        "    Anthropic,\n",
        "    # AsyncAnthropic,\n",
        ")"
      ],
      "metadata": {
        "id": "7cdBOQT582CZ"
      },
      "execution_count": null,
      "outputs": []
    },
    {
      "cell_type": "code",
      "source": [
        "client = Anthropic(api_key=userdata.get('ANTHROPIC_API_KEY'))\n",
        "model = \"claude-sonnet-4-0\""
      ],
      "metadata": {
        "id": "eEnjdSWk9Ga6"
      },
      "execution_count": null,
      "outputs": []
    },
    {
      "cell_type": "code",
      "source": [
        "def append_message(messages, *, role: str,  content: str):\n",
        "  messages.append({\"role\": role, \"content\": content})\n",
        "  return messages\n",
        "\n",
        "add_user_message = partial(append_message, role='user')\n",
        "add_assistant_message = partial(append_message, role='assistant')\n",
        "\n",
        "def chat(messages, system=None):\n",
        "  params = {\n",
        "    \"model\":model,\n",
        "    \"max_tokens\":1024,\n",
        "    \"messages\": messages,\n",
        "    # stream=True,\n",
        "  }\n",
        "  if system:\n",
        "    params[\"system\"] = system\n",
        "  message = client.messages.create( **params\n",
        "    )\n",
        "  return message.content[0].text\n",
        "\n",
        "def chat_stream(messages, system=None):\n",
        "  params = {\n",
        "    \"model\":model,\n",
        "    \"max_tokens\":1024,\n",
        "    \"messages\": messages,\n",
        "    \"stream\": True,\n",
        "  }\n",
        "  if system:\n",
        "    params[\"system\"] = system\n",
        "  with client.messages.create(**params) as stream:\n",
        "    for text in stream.text_stream():\n",
        ""
      ],
      "metadata": {
        "id": "L6WjFpOe-LQ8"
      },
      "execution_count": null,
      "outputs": []
    },
    {
      "cell_type": "code",
      "source": [
        "messages = []\n",
        "add_user_message(messages, content=\"Define quantum computing in one sentence\")\n",
        "\n",
        "resp = chat(messages)\n",
        "print(resp)\n",
        "\n",
        "add_assistant_message(messages, content=resp)\n",
        "\n",
        "add_user_message(messages, content=\"Write another sentence\")\n",
        "\n",
        "add_assistant_message(messages, content=chat(messages))"
      ],
      "metadata": {
        "id": "oOzjKZ8lGC93"
      },
      "execution_count": null,
      "outputs": []
    },
    {
      "cell_type": "code",
      "source": [
        "for message in messages:\n",
        "  print(message)"
      ],
      "metadata": {
        "id": "3TNPKgXrIbyI"
      },
      "execution_count": null,
      "outputs": []
    },
    {
      "cell_type": "code",
      "source": [
        "system = \"\"\"\n",
        "You are a patient math tutor.\n",
        "Do not directly answer a student's questions.\n",
        "Guide them to a solution step by step.\n",
        "\"\"\"\n",
        "messages = []\n",
        "add_user_message(messages, content=\"How do I solve 5x + 2 = 3 for x?\")\n",
        "add_assistant_message(messages, content=chat(messages))\n",
        "for message in messages:\n",
        "  print(message)\n",
        "print(\"****\" * 5)\n",
        "messages = []\n",
        "add_user_message(messages, content=\"How do I solve 5x + 2 = 3 for x?\")\n",
        "add_assistant_message(messages, content=chat(messages, system))\n",
        "for message in messages:\n",
        "  print(message)"
      ],
      "metadata": {
        "id": "V72GzmLlKisF"
      },
      "execution_count": null,
      "outputs": []
    },
    {
      "cell_type": "code",
      "source": [
        "messages = []\n",
        "user_message= \"\"\"\n",
        "Write a python function that checks a string for duplicate characters.\n",
        "\"\"\"\n",
        "add_user_message(messages, content=user_message)\n",
        "system = \"\"\"\n",
        "  You're a helpful coding assistant. When asked for help just provide the code that solves the problem. Do not explain the code, unless you are explicitly asked to do so by the user.\n",
        "\"\"\"\n",
        "add_assistant_message(messages, content=chat(messages, system))\n",
        "for message in messages:\n",
        "  print(message)\n",
        "\n",
        "print()\n",
        "messages = []\n",
        "user_message += \"Explain the code in two sentences.\"\n",
        "add_user_message(messages, content=user_message)\n",
        "add_assistant_message(messages, content=chat(messages, system))\n",
        "for message in messages:\n",
        "  print(message)"
      ],
      "metadata": {
        "id": "huzrs9OvQw6f"
      },
      "execution_count": null,
      "outputs": []
    },
    {
      "cell_type": "code",
      "source": [
        "with client.messages.stream(\n",
        "    model=model,\n",
        "    max_tokens=1024,\n",
        "    stop_sequences=[\"```\"],\n",
        "    messages=[\n",
        "        {\n",
        "            \"role\": \"user\",\n",
        "            \"content\": \"Write a three different gcloud cli commands. Each should be very short\"\n",
        "        },\n",
        "                {\n",
        "            \"role\": \"assistant\",\n",
        "            \"content\": \"Here are all three commands with no comments in a single code block:\\n```bash\"\n",
        "        },\n",
        "    ],\n",
        ") as stream :\n",
        "  for text in stream.text_stream:\n",
        "    print(text, end=\"\", flush=True)\n"
      ],
      "metadata": {
        "id": "KS7RYg5pTCsN"
      },
      "execution_count": null,
      "outputs": []
    },
    {
      "cell_type": "code",
      "source": [],
      "metadata": {
        "id": "M8szh_A5pl18"
      },
      "execution_count": null,
      "outputs": []
    }
  ]
}